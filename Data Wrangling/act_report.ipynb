{
 "cells": [
  {
   "cell_type": "code",
   "execution_count": 1,
   "metadata": {},
   "outputs": [],
   "source": [
    "import pandas as pd\n",
    "import matplotlib.pyplot as plt\n",
    "import numpy as np"
   ]
  },
  {
   "cell_type": "code",
   "execution_count": 2,
   "metadata": {},
   "outputs": [
    {
     "data": {
      "text/plain": [
       "['Unnamed: 0',\n",
       " 'tweet_id',\n",
       " 'in_reply_to_status_id',\n",
       " 'in_reply_to_user_id',\n",
       " 'timestamp',\n",
       " 'source',\n",
       " 'text',\n",
       " 'retweeted_status_id',\n",
       " 'retweeted_status_user_id',\n",
       " 'retweeted_status_timestamp',\n",
       " 'expanded_urls',\n",
       " 'rating_numerator',\n",
       " 'rating_denominator',\n",
       " 'name',\n",
       " 'breed_name',\n",
       " 'stage',\n",
       " 'retweet_count',\n",
       " 'favorite_count',\n",
       " 'reply_count']"
      ]
     },
     "execution_count": 2,
     "metadata": {},
     "output_type": "execute_result"
    }
   ],
   "source": [
    "df = pd.read_csv('twitter_archive_master.csv')\n",
    "list(df)"
   ]
  },
  {
   "cell_type": "code",
   "execution_count": 3,
   "metadata": {},
   "outputs": [
    {
     "data": {
      "text/html": [
       "<div>\n",
       "<style>\n",
       "    .dataframe thead tr:only-child th {\n",
       "        text-align: right;\n",
       "    }\n",
       "\n",
       "    .dataframe thead th {\n",
       "        text-align: left;\n",
       "    }\n",
       "\n",
       "    .dataframe tbody tr th {\n",
       "        vertical-align: top;\n",
       "    }\n",
       "</style>\n",
       "<table border=\"1\" class=\"dataframe\">\n",
       "  <thead>\n",
       "    <tr style=\"text-align: right;\">\n",
       "      <th></th>\n",
       "      <th>tweet_id</th>\n",
       "      <th>in_reply_to_status_id</th>\n",
       "      <th>in_reply_to_user_id</th>\n",
       "      <th>timestamp</th>\n",
       "      <th>source</th>\n",
       "      <th>text</th>\n",
       "      <th>retweeted_status_id</th>\n",
       "      <th>retweeted_status_user_id</th>\n",
       "      <th>retweeted_status_timestamp</th>\n",
       "      <th>expanded_urls</th>\n",
       "      <th>rating_numerator</th>\n",
       "      <th>rating_denominator</th>\n",
       "      <th>name</th>\n",
       "      <th>breed_name</th>\n",
       "      <th>stage</th>\n",
       "      <th>retweet_count</th>\n",
       "      <th>favorite_count</th>\n",
       "      <th>reply_count</th>\n",
       "    </tr>\n",
       "  </thead>\n",
       "  <tbody>\n",
       "    <tr>\n",
       "      <th>0</th>\n",
       "      <td>666020888022790149</td>\n",
       "      <td>0</td>\n",
       "      <td>0</td>\n",
       "      <td>2015-11-15 22:32:08</td>\n",
       "      <td>Twitter for iPhone</td>\n",
       "      <td>Here we have a Japanese Irish Setter. Lost eye...</td>\n",
       "      <td>0</td>\n",
       "      <td>0</td>\n",
       "      <td>NaN</td>\n",
       "      <td>https://twitter.com/dog_rates/status/666020888...</td>\n",
       "      <td>8.0</td>\n",
       "      <td>10</td>\n",
       "      <td>None</td>\n",
       "      <td>welsh_springer_spaniel</td>\n",
       "      <td>NaN</td>\n",
       "      <td>515.0</td>\n",
       "      <td>2562.0</td>\n",
       "      <td>25.0</td>\n",
       "    </tr>\n",
       "    <tr>\n",
       "      <th>1</th>\n",
       "      <td>666029285002620928</td>\n",
       "      <td>0</td>\n",
       "      <td>0</td>\n",
       "      <td>2015-11-15 23:05:30</td>\n",
       "      <td>Twitter for iPhone</td>\n",
       "      <td>This is a western brown Mitsubishi terrier. Up...</td>\n",
       "      <td>0</td>\n",
       "      <td>0</td>\n",
       "      <td>NaN</td>\n",
       "      <td>https://twitter.com/dog_rates/status/666029285...</td>\n",
       "      <td>7.0</td>\n",
       "      <td>10</td>\n",
       "      <td>None</td>\n",
       "      <td>redbone</td>\n",
       "      <td>NaN</td>\n",
       "      <td>47.0</td>\n",
       "      <td>130.0</td>\n",
       "      <td>0.0</td>\n",
       "    </tr>\n",
       "    <tr>\n",
       "      <th>2</th>\n",
       "      <td>666033412701032449</td>\n",
       "      <td>0</td>\n",
       "      <td>0</td>\n",
       "      <td>2015-11-15 23:21:54</td>\n",
       "      <td>Twitter for iPhone</td>\n",
       "      <td>Here is a very happy pup. Big fan of well-main...</td>\n",
       "      <td>0</td>\n",
       "      <td>0</td>\n",
       "      <td>NaN</td>\n",
       "      <td>https://twitter.com/dog_rates/status/666033412...</td>\n",
       "      <td>9.0</td>\n",
       "      <td>10</td>\n",
       "      <td>None</td>\n",
       "      <td>german_shepherd</td>\n",
       "      <td>NaN</td>\n",
       "      <td>44.0</td>\n",
       "      <td>125.0</td>\n",
       "      <td>1.0</td>\n",
       "    </tr>\n",
       "    <tr>\n",
       "      <th>3</th>\n",
       "      <td>666044226329800704</td>\n",
       "      <td>0</td>\n",
       "      <td>0</td>\n",
       "      <td>2015-11-16 00:04:52</td>\n",
       "      <td>Twitter for iPhone</td>\n",
       "      <td>This is a purebred Piers Morgan. Loves to Netf...</td>\n",
       "      <td>0</td>\n",
       "      <td>0</td>\n",
       "      <td>NaN</td>\n",
       "      <td>https://twitter.com/dog_rates/status/666044226...</td>\n",
       "      <td>6.0</td>\n",
       "      <td>10</td>\n",
       "      <td>None</td>\n",
       "      <td>rhodesian_ridgeback</td>\n",
       "      <td>NaN</td>\n",
       "      <td>141.0</td>\n",
       "      <td>299.0</td>\n",
       "      <td>1.0</td>\n",
       "    </tr>\n",
       "    <tr>\n",
       "      <th>4</th>\n",
       "      <td>666049248165822465</td>\n",
       "      <td>0</td>\n",
       "      <td>0</td>\n",
       "      <td>2015-11-16 00:24:50</td>\n",
       "      <td>Twitter for iPhone</td>\n",
       "      <td>Here we have a 1949 1st generation vulpix. Enj...</td>\n",
       "      <td>0</td>\n",
       "      <td>0</td>\n",
       "      <td>NaN</td>\n",
       "      <td>https://twitter.com/dog_rates/status/666049248...</td>\n",
       "      <td>5.0</td>\n",
       "      <td>10</td>\n",
       "      <td>None</td>\n",
       "      <td>miniature_pinscher</td>\n",
       "      <td>NaN</td>\n",
       "      <td>40.0</td>\n",
       "      <td>108.0</td>\n",
       "      <td>7.0</td>\n",
       "    </tr>\n",
       "  </tbody>\n",
       "</table>\n",
       "</div>"
      ],
      "text/plain": [
       "             tweet_id  in_reply_to_status_id  in_reply_to_user_id  \\\n",
       "0  666020888022790149                      0                    0   \n",
       "1  666029285002620928                      0                    0   \n",
       "2  666033412701032449                      0                    0   \n",
       "3  666044226329800704                      0                    0   \n",
       "4  666049248165822465                      0                    0   \n",
       "\n",
       "             timestamp              source  \\\n",
       "0  2015-11-15 22:32:08  Twitter for iPhone   \n",
       "1  2015-11-15 23:05:30  Twitter for iPhone   \n",
       "2  2015-11-15 23:21:54  Twitter for iPhone   \n",
       "3  2015-11-16 00:04:52  Twitter for iPhone   \n",
       "4  2015-11-16 00:24:50  Twitter for iPhone   \n",
       "\n",
       "                                                text  retweeted_status_id  \\\n",
       "0  Here we have a Japanese Irish Setter. Lost eye...                    0   \n",
       "1  This is a western brown Mitsubishi terrier. Up...                    0   \n",
       "2  Here is a very happy pup. Big fan of well-main...                    0   \n",
       "3  This is a purebred Piers Morgan. Loves to Netf...                    0   \n",
       "4  Here we have a 1949 1st generation vulpix. Enj...                    0   \n",
       "\n",
       "   retweeted_status_user_id retweeted_status_timestamp  \\\n",
       "0                         0                        NaN   \n",
       "1                         0                        NaN   \n",
       "2                         0                        NaN   \n",
       "3                         0                        NaN   \n",
       "4                         0                        NaN   \n",
       "\n",
       "                                       expanded_urls  rating_numerator  \\\n",
       "0  https://twitter.com/dog_rates/status/666020888...               8.0   \n",
       "1  https://twitter.com/dog_rates/status/666029285...               7.0   \n",
       "2  https://twitter.com/dog_rates/status/666033412...               9.0   \n",
       "3  https://twitter.com/dog_rates/status/666044226...               6.0   \n",
       "4  https://twitter.com/dog_rates/status/666049248...               5.0   \n",
       "\n",
       "   rating_denominator  name              breed_name stage  retweet_count  \\\n",
       "0                  10  None  welsh_springer_spaniel   NaN          515.0   \n",
       "1                  10  None                 redbone   NaN           47.0   \n",
       "2                  10  None         german_shepherd   NaN           44.0   \n",
       "3                  10  None     rhodesian_ridgeback   NaN          141.0   \n",
       "4                  10  None      miniature_pinscher   NaN           40.0   \n",
       "\n",
       "   favorite_count  reply_count  \n",
       "0          2562.0         25.0  \n",
       "1           130.0          0.0  \n",
       "2           125.0          1.0  \n",
       "3           299.0          1.0  \n",
       "4           108.0          7.0  "
      ]
     },
     "execution_count": 3,
     "metadata": {},
     "output_type": "execute_result"
    }
   ],
   "source": [
    "df = df.drop('Unnamed: 0',1)\n",
    "df.head()"
   ]
  },
  {
   "cell_type": "code",
   "execution_count": 4,
   "metadata": {},
   "outputs": [
    {
     "name": "stdout",
     "output_type": "stream",
     "text": [
      "<class 'pandas.core.frame.DataFrame'>\n",
      "RangeIndex: 2210 entries, 0 to 2209\n",
      "Data columns (total 18 columns):\n",
      "tweet_id                      2210 non-null int64\n",
      "in_reply_to_status_id         2210 non-null int64\n",
      "in_reply_to_user_id           2210 non-null int64\n",
      "timestamp                     2210 non-null object\n",
      "source                        2210 non-null object\n",
      "text                          2210 non-null object\n",
      "retweeted_status_id           2210 non-null int64\n",
      "retweeted_status_user_id      2210 non-null int64\n",
      "retweeted_status_timestamp    69 non-null object\n",
      "expanded_urls                 2169 non-null object\n",
      "rating_numerator              2210 non-null float64\n",
      "rating_denominator            2210 non-null int64\n",
      "name                          2210 non-null object\n",
      "breed_name                    1512 non-null object\n",
      "stage                         426 non-null object\n",
      "retweet_count                 2200 non-null float64\n",
      "favorite_count                2200 non-null float64\n",
      "reply_count                   2200 non-null float64\n",
      "dtypes: float64(4), int64(6), object(8)\n",
      "memory usage: 310.9+ KB\n"
     ]
    }
   ],
   "source": [
    "df.info()"
   ]
  },
  {
   "cell_type": "markdown",
   "metadata": {},
   "source": [
    "##### Let us correct the data type before going further with visualization"
   ]
  },
  {
   "cell_type": "code",
   "execution_count": 5,
   "metadata": {},
   "outputs": [
    {
     "name": "stdout",
     "output_type": "stream",
     "text": [
      "<class 'pandas.core.frame.DataFrame'>\n",
      "RangeIndex: 2210 entries, 0 to 2209\n",
      "Data columns (total 18 columns):\n",
      "tweet_id                      2210 non-null int64\n",
      "in_reply_to_status_id         2210 non-null int64\n",
      "in_reply_to_user_id           2210 non-null int64\n",
      "timestamp                     2210 non-null datetime64[ns]\n",
      "source                        2210 non-null object\n",
      "text                          2210 non-null object\n",
      "retweeted_status_id           2210 non-null int64\n",
      "retweeted_status_user_id      2210 non-null int64\n",
      "retweeted_status_timestamp    69 non-null datetime64[ns]\n",
      "expanded_urls                 2169 non-null object\n",
      "rating_numerator              2210 non-null float64\n",
      "rating_denominator            2210 non-null int64\n",
      "name                          2210 non-null object\n",
      "breed_name                    1512 non-null object\n",
      "stage                         426 non-null object\n",
      "retweet_count                 2210 non-null int64\n",
      "favorite_count                2210 non-null int64\n",
      "reply_count                   2210 non-null int64\n",
      "dtypes: datetime64[ns](2), float64(1), int64(9), object(6)\n",
      "memory usage: 310.9+ KB\n"
     ]
    }
   ],
   "source": [
    "df.timestamp = pd.to_datetime(df.timestamp)\n",
    "df.retweeted_status_timestamp = pd.to_datetime(df.retweeted_status_timestamp)\n",
    "df.retweet_count = pd.to_numeric(df.retweet_count, errors='coerce').fillna(0).astype(np.int64)\n",
    "df.favorite_count = pd.to_numeric(df.favorite_count, errors='coerce').fillna(0).astype(np.int64)\n",
    "df.reply_count = pd.to_numeric(df.reply_count, errors='coerce').fillna(0).astype(np.int64)\n",
    "df.info()"
   ]
  },
  {
   "cell_type": "code",
   "execution_count": 6,
   "metadata": {},
   "outputs": [
    {
     "data": {
      "text/html": [
       "<div>\n",
       "<style>\n",
       "    .dataframe thead tr:only-child th {\n",
       "        text-align: right;\n",
       "    }\n",
       "\n",
       "    .dataframe thead th {\n",
       "        text-align: left;\n",
       "    }\n",
       "\n",
       "    .dataframe tbody tr th {\n",
       "        vertical-align: top;\n",
       "    }\n",
       "</style>\n",
       "<table border=\"1\" class=\"dataframe\">\n",
       "  <thead>\n",
       "    <tr style=\"text-align: right;\">\n",
       "      <th></th>\n",
       "      <th>tweet_id</th>\n",
       "      <th>in_reply_to_status_id</th>\n",
       "      <th>in_reply_to_user_id</th>\n",
       "      <th>timestamp</th>\n",
       "      <th>source</th>\n",
       "      <th>text</th>\n",
       "      <th>retweeted_status_id</th>\n",
       "      <th>retweeted_status_user_id</th>\n",
       "      <th>retweeted_status_timestamp</th>\n",
       "      <th>expanded_urls</th>\n",
       "      <th>rating_numerator</th>\n",
       "      <th>rating_denominator</th>\n",
       "      <th>name</th>\n",
       "      <th>breed_name</th>\n",
       "      <th>stage</th>\n",
       "      <th>retweet_count</th>\n",
       "      <th>favorite_count</th>\n",
       "      <th>reply_count</th>\n",
       "    </tr>\n",
       "  </thead>\n",
       "  <tbody>\n",
       "    <tr>\n",
       "      <th>0</th>\n",
       "      <td>666020888022790149</td>\n",
       "      <td>0</td>\n",
       "      <td>0</td>\n",
       "      <td>2015-11-15 22:32:08</td>\n",
       "      <td>Twitter for iPhone</td>\n",
       "      <td>Here we have a Japanese Irish Setter. Lost eye...</td>\n",
       "      <td>0</td>\n",
       "      <td>0</td>\n",
       "      <td>NaT</td>\n",
       "      <td>https://twitter.com/dog_rates/status/666020888...</td>\n",
       "      <td>8.0</td>\n",
       "      <td>10</td>\n",
       "      <td>None</td>\n",
       "      <td>welsh_springer_spaniel</td>\n",
       "      <td>NaN</td>\n",
       "      <td>515</td>\n",
       "      <td>2562</td>\n",
       "      <td>25</td>\n",
       "    </tr>\n",
       "    <tr>\n",
       "      <th>1</th>\n",
       "      <td>666029285002620928</td>\n",
       "      <td>0</td>\n",
       "      <td>0</td>\n",
       "      <td>2015-11-15 23:05:30</td>\n",
       "      <td>Twitter for iPhone</td>\n",
       "      <td>This is a western brown Mitsubishi terrier. Up...</td>\n",
       "      <td>0</td>\n",
       "      <td>0</td>\n",
       "      <td>NaT</td>\n",
       "      <td>https://twitter.com/dog_rates/status/666029285...</td>\n",
       "      <td>7.0</td>\n",
       "      <td>10</td>\n",
       "      <td>None</td>\n",
       "      <td>redbone</td>\n",
       "      <td>NaN</td>\n",
       "      <td>47</td>\n",
       "      <td>130</td>\n",
       "      <td>0</td>\n",
       "    </tr>\n",
       "    <tr>\n",
       "      <th>2</th>\n",
       "      <td>666033412701032449</td>\n",
       "      <td>0</td>\n",
       "      <td>0</td>\n",
       "      <td>2015-11-15 23:21:54</td>\n",
       "      <td>Twitter for iPhone</td>\n",
       "      <td>Here is a very happy pup. Big fan of well-main...</td>\n",
       "      <td>0</td>\n",
       "      <td>0</td>\n",
       "      <td>NaT</td>\n",
       "      <td>https://twitter.com/dog_rates/status/666033412...</td>\n",
       "      <td>9.0</td>\n",
       "      <td>10</td>\n",
       "      <td>None</td>\n",
       "      <td>german_shepherd</td>\n",
       "      <td>NaN</td>\n",
       "      <td>44</td>\n",
       "      <td>125</td>\n",
       "      <td>1</td>\n",
       "    </tr>\n",
       "    <tr>\n",
       "      <th>3</th>\n",
       "      <td>666044226329800704</td>\n",
       "      <td>0</td>\n",
       "      <td>0</td>\n",
       "      <td>2015-11-16 00:04:52</td>\n",
       "      <td>Twitter for iPhone</td>\n",
       "      <td>This is a purebred Piers Morgan. Loves to Netf...</td>\n",
       "      <td>0</td>\n",
       "      <td>0</td>\n",
       "      <td>NaT</td>\n",
       "      <td>https://twitter.com/dog_rates/status/666044226...</td>\n",
       "      <td>6.0</td>\n",
       "      <td>10</td>\n",
       "      <td>None</td>\n",
       "      <td>rhodesian_ridgeback</td>\n",
       "      <td>NaN</td>\n",
       "      <td>141</td>\n",
       "      <td>299</td>\n",
       "      <td>1</td>\n",
       "    </tr>\n",
       "    <tr>\n",
       "      <th>4</th>\n",
       "      <td>666049248165822465</td>\n",
       "      <td>0</td>\n",
       "      <td>0</td>\n",
       "      <td>2015-11-16 00:24:50</td>\n",
       "      <td>Twitter for iPhone</td>\n",
       "      <td>Here we have a 1949 1st generation vulpix. Enj...</td>\n",
       "      <td>0</td>\n",
       "      <td>0</td>\n",
       "      <td>NaT</td>\n",
       "      <td>https://twitter.com/dog_rates/status/666049248...</td>\n",
       "      <td>5.0</td>\n",
       "      <td>10</td>\n",
       "      <td>None</td>\n",
       "      <td>miniature_pinscher</td>\n",
       "      <td>NaN</td>\n",
       "      <td>40</td>\n",
       "      <td>108</td>\n",
       "      <td>7</td>\n",
       "    </tr>\n",
       "  </tbody>\n",
       "</table>\n",
       "</div>"
      ],
      "text/plain": [
       "             tweet_id  in_reply_to_status_id  in_reply_to_user_id  \\\n",
       "0  666020888022790149                      0                    0   \n",
       "1  666029285002620928                      0                    0   \n",
       "2  666033412701032449                      0                    0   \n",
       "3  666044226329800704                      0                    0   \n",
       "4  666049248165822465                      0                    0   \n",
       "\n",
       "            timestamp              source  \\\n",
       "0 2015-11-15 22:32:08  Twitter for iPhone   \n",
       "1 2015-11-15 23:05:30  Twitter for iPhone   \n",
       "2 2015-11-15 23:21:54  Twitter for iPhone   \n",
       "3 2015-11-16 00:04:52  Twitter for iPhone   \n",
       "4 2015-11-16 00:24:50  Twitter for iPhone   \n",
       "\n",
       "                                                text  retweeted_status_id  \\\n",
       "0  Here we have a Japanese Irish Setter. Lost eye...                    0   \n",
       "1  This is a western brown Mitsubishi terrier. Up...                    0   \n",
       "2  Here is a very happy pup. Big fan of well-main...                    0   \n",
       "3  This is a purebred Piers Morgan. Loves to Netf...                    0   \n",
       "4  Here we have a 1949 1st generation vulpix. Enj...                    0   \n",
       "\n",
       "   retweeted_status_user_id retweeted_status_timestamp  \\\n",
       "0                         0                        NaT   \n",
       "1                         0                        NaT   \n",
       "2                         0                        NaT   \n",
       "3                         0                        NaT   \n",
       "4                         0                        NaT   \n",
       "\n",
       "                                       expanded_urls  rating_numerator  \\\n",
       "0  https://twitter.com/dog_rates/status/666020888...               8.0   \n",
       "1  https://twitter.com/dog_rates/status/666029285...               7.0   \n",
       "2  https://twitter.com/dog_rates/status/666033412...               9.0   \n",
       "3  https://twitter.com/dog_rates/status/666044226...               6.0   \n",
       "4  https://twitter.com/dog_rates/status/666049248...               5.0   \n",
       "\n",
       "   rating_denominator  name              breed_name stage  retweet_count  \\\n",
       "0                  10  None  welsh_springer_spaniel   NaN            515   \n",
       "1                  10  None                 redbone   NaN             47   \n",
       "2                  10  None         german_shepherd   NaN             44   \n",
       "3                  10  None     rhodesian_ridgeback   NaN            141   \n",
       "4                  10  None      miniature_pinscher   NaN             40   \n",
       "\n",
       "   favorite_count  reply_count  \n",
       "0            2562           25  \n",
       "1             130            0  \n",
       "2             125            1  \n",
       "3             299            1  \n",
       "4             108            7  "
      ]
     },
     "execution_count": 6,
     "metadata": {},
     "output_type": "execute_result"
    }
   ],
   "source": [
    "df.head()"
   ]
  },
  {
   "cell_type": "markdown",
   "metadata": {},
   "source": [
    "##### Let us add two derived feature to our dataset: \n",
    "* num of days from the start of the weratedogs account (i.e number of day since 15th November 2015)\n",
    "* normalized rating ; because at time he has changed the denominators\n"
   ]
  },
  {
   "cell_type": "code",
   "execution_count": 7,
   "metadata": {},
   "outputs": [
    {
     "data": {
      "text/html": [
       "<div>\n",
       "<style>\n",
       "    .dataframe thead tr:only-child th {\n",
       "        text-align: right;\n",
       "    }\n",
       "\n",
       "    .dataframe thead th {\n",
       "        text-align: left;\n",
       "    }\n",
       "\n",
       "    .dataframe tbody tr th {\n",
       "        vertical-align: top;\n",
       "    }\n",
       "</style>\n",
       "<table border=\"1\" class=\"dataframe\">\n",
       "  <thead>\n",
       "    <tr style=\"text-align: right;\">\n",
       "      <th></th>\n",
       "      <th>tweet_id</th>\n",
       "      <th>in_reply_to_status_id</th>\n",
       "      <th>in_reply_to_user_id</th>\n",
       "      <th>timestamp</th>\n",
       "      <th>source</th>\n",
       "      <th>text</th>\n",
       "      <th>retweeted_status_id</th>\n",
       "      <th>retweeted_status_user_id</th>\n",
       "      <th>retweeted_status_timestamp</th>\n",
       "      <th>expanded_urls</th>\n",
       "      <th>rating_numerator</th>\n",
       "      <th>rating_denominator</th>\n",
       "      <th>name</th>\n",
       "      <th>breed_name</th>\n",
       "      <th>stage</th>\n",
       "      <th>retweet_count</th>\n",
       "      <th>favorite_count</th>\n",
       "      <th>reply_count</th>\n",
       "      <th>num_days</th>\n",
       "      <th>normalized_rating</th>\n",
       "    </tr>\n",
       "  </thead>\n",
       "  <tbody>\n",
       "    <tr>\n",
       "      <th>0</th>\n",
       "      <td>666020888022790149</td>\n",
       "      <td>0</td>\n",
       "      <td>0</td>\n",
       "      <td>2015-11-15 22:32:08</td>\n",
       "      <td>Twitter for iPhone</td>\n",
       "      <td>Here we have a Japanese Irish Setter. Lost eye...</td>\n",
       "      <td>0</td>\n",
       "      <td>0</td>\n",
       "      <td>NaT</td>\n",
       "      <td>https://twitter.com/dog_rates/status/666020888...</td>\n",
       "      <td>8.0</td>\n",
       "      <td>10</td>\n",
       "      <td>None</td>\n",
       "      <td>welsh_springer_spaniel</td>\n",
       "      <td>NaN</td>\n",
       "      <td>515</td>\n",
       "      <td>2562</td>\n",
       "      <td>25</td>\n",
       "      <td>0</td>\n",
       "      <td>0.8</td>\n",
       "    </tr>\n",
       "    <tr>\n",
       "      <th>1</th>\n",
       "      <td>666029285002620928</td>\n",
       "      <td>0</td>\n",
       "      <td>0</td>\n",
       "      <td>2015-11-15 23:05:30</td>\n",
       "      <td>Twitter for iPhone</td>\n",
       "      <td>This is a western brown Mitsubishi terrier. Up...</td>\n",
       "      <td>0</td>\n",
       "      <td>0</td>\n",
       "      <td>NaT</td>\n",
       "      <td>https://twitter.com/dog_rates/status/666029285...</td>\n",
       "      <td>7.0</td>\n",
       "      <td>10</td>\n",
       "      <td>None</td>\n",
       "      <td>redbone</td>\n",
       "      <td>NaN</td>\n",
       "      <td>47</td>\n",
       "      <td>130</td>\n",
       "      <td>0</td>\n",
       "      <td>0</td>\n",
       "      <td>0.7</td>\n",
       "    </tr>\n",
       "    <tr>\n",
       "      <th>2</th>\n",
       "      <td>666033412701032449</td>\n",
       "      <td>0</td>\n",
       "      <td>0</td>\n",
       "      <td>2015-11-15 23:21:54</td>\n",
       "      <td>Twitter for iPhone</td>\n",
       "      <td>Here is a very happy pup. Big fan of well-main...</td>\n",
       "      <td>0</td>\n",
       "      <td>0</td>\n",
       "      <td>NaT</td>\n",
       "      <td>https://twitter.com/dog_rates/status/666033412...</td>\n",
       "      <td>9.0</td>\n",
       "      <td>10</td>\n",
       "      <td>None</td>\n",
       "      <td>german_shepherd</td>\n",
       "      <td>NaN</td>\n",
       "      <td>44</td>\n",
       "      <td>125</td>\n",
       "      <td>1</td>\n",
       "      <td>0</td>\n",
       "      <td>0.9</td>\n",
       "    </tr>\n",
       "    <tr>\n",
       "      <th>3</th>\n",
       "      <td>666044226329800704</td>\n",
       "      <td>0</td>\n",
       "      <td>0</td>\n",
       "      <td>2015-11-16 00:04:52</td>\n",
       "      <td>Twitter for iPhone</td>\n",
       "      <td>This is a purebred Piers Morgan. Loves to Netf...</td>\n",
       "      <td>0</td>\n",
       "      <td>0</td>\n",
       "      <td>NaT</td>\n",
       "      <td>https://twitter.com/dog_rates/status/666044226...</td>\n",
       "      <td>6.0</td>\n",
       "      <td>10</td>\n",
       "      <td>None</td>\n",
       "      <td>rhodesian_ridgeback</td>\n",
       "      <td>NaN</td>\n",
       "      <td>141</td>\n",
       "      <td>299</td>\n",
       "      <td>1</td>\n",
       "      <td>1</td>\n",
       "      <td>0.6</td>\n",
       "    </tr>\n",
       "    <tr>\n",
       "      <th>4</th>\n",
       "      <td>666049248165822465</td>\n",
       "      <td>0</td>\n",
       "      <td>0</td>\n",
       "      <td>2015-11-16 00:24:50</td>\n",
       "      <td>Twitter for iPhone</td>\n",
       "      <td>Here we have a 1949 1st generation vulpix. Enj...</td>\n",
       "      <td>0</td>\n",
       "      <td>0</td>\n",
       "      <td>NaT</td>\n",
       "      <td>https://twitter.com/dog_rates/status/666049248...</td>\n",
       "      <td>5.0</td>\n",
       "      <td>10</td>\n",
       "      <td>None</td>\n",
       "      <td>miniature_pinscher</td>\n",
       "      <td>NaN</td>\n",
       "      <td>40</td>\n",
       "      <td>108</td>\n",
       "      <td>7</td>\n",
       "      <td>1</td>\n",
       "      <td>0.5</td>\n",
       "    </tr>\n",
       "  </tbody>\n",
       "</table>\n",
       "</div>"
      ],
      "text/plain": [
       "             tweet_id  in_reply_to_status_id  in_reply_to_user_id  \\\n",
       "0  666020888022790149                      0                    0   \n",
       "1  666029285002620928                      0                    0   \n",
       "2  666033412701032449                      0                    0   \n",
       "3  666044226329800704                      0                    0   \n",
       "4  666049248165822465                      0                    0   \n",
       "\n",
       "            timestamp              source  \\\n",
       "0 2015-11-15 22:32:08  Twitter for iPhone   \n",
       "1 2015-11-15 23:05:30  Twitter for iPhone   \n",
       "2 2015-11-15 23:21:54  Twitter for iPhone   \n",
       "3 2015-11-16 00:04:52  Twitter for iPhone   \n",
       "4 2015-11-16 00:24:50  Twitter for iPhone   \n",
       "\n",
       "                                                text  retweeted_status_id  \\\n",
       "0  Here we have a Japanese Irish Setter. Lost eye...                    0   \n",
       "1  This is a western brown Mitsubishi terrier. Up...                    0   \n",
       "2  Here is a very happy pup. Big fan of well-main...                    0   \n",
       "3  This is a purebred Piers Morgan. Loves to Netf...                    0   \n",
       "4  Here we have a 1949 1st generation vulpix. Enj...                    0   \n",
       "\n",
       "   retweeted_status_user_id retweeted_status_timestamp  \\\n",
       "0                         0                        NaT   \n",
       "1                         0                        NaT   \n",
       "2                         0                        NaT   \n",
       "3                         0                        NaT   \n",
       "4                         0                        NaT   \n",
       "\n",
       "                                       expanded_urls  rating_numerator  \\\n",
       "0  https://twitter.com/dog_rates/status/666020888...               8.0   \n",
       "1  https://twitter.com/dog_rates/status/666029285...               7.0   \n",
       "2  https://twitter.com/dog_rates/status/666033412...               9.0   \n",
       "3  https://twitter.com/dog_rates/status/666044226...               6.0   \n",
       "4  https://twitter.com/dog_rates/status/666049248...               5.0   \n",
       "\n",
       "   rating_denominator  name              breed_name stage  retweet_count  \\\n",
       "0                  10  None  welsh_springer_spaniel   NaN            515   \n",
       "1                  10  None                 redbone   NaN             47   \n",
       "2                  10  None         german_shepherd   NaN             44   \n",
       "3                  10  None     rhodesian_ridgeback   NaN            141   \n",
       "4                  10  None      miniature_pinscher   NaN             40   \n",
       "\n",
       "   favorite_count  reply_count  num_days  normalized_rating  \n",
       "0            2562           25         0                0.8  \n",
       "1             130            0         0                0.7  \n",
       "2             125            1         0                0.9  \n",
       "3             299            1         1                0.6  \n",
       "4             108            7         1                0.5  "
      ]
     },
     "execution_count": 7,
     "metadata": {},
     "output_type": "execute_result"
    }
   ],
   "source": [
    "#for number of days\n",
    "df['temp'] = df.timestamp - pd.datetime(2015,11,15)\n",
    "df['num_days'] = df.temp.apply(lambda x: int(str(x).split('days')[0]))\n",
    "df = df.drop('temp',1)\n",
    "\n",
    "#for normalized rating\n",
    "df['normalized_rating'] = round(df.rating_numerator / df.rating_denominator,2)\n",
    "\n",
    "df.head()"
   ]
  },
  {
   "cell_type": "code",
   "execution_count": 8,
   "metadata": {},
   "outputs": [
    {
     "name": "stdout",
     "output_type": "stream",
     "text": [
      "Latest tweet we have is of 2017-08-01 16:23:56 which almost an year old data but still below insights are based on the existing data\n"
     ]
    }
   ],
   "source": [
    "print(\"Latest tweet we have is of\", sorted(list(df.timestamp))[-1], \"which almost an year old data but still below insights are based on the existing data\")"
   ]
  },
  {
   "cell_type": "markdown",
   "metadata": {},
   "source": [
    "# Insight 1: The Firsts\n",
    "\n",
    "#### Here we will conver following:\n",
    "* First rating\n",
    "* first rating as 10\n",
    "* first rating as 11\n",
    "* first rating as 12\n",
    "* first rating as 13\n",
    "* first rating as 14\n",
    "* from when <10 rating stopped\n",
    "* highest rating and history\n",
    "* lowest rating and history"
   ]
  },
  {
   "cell_type": "code",
   "execution_count": 9,
   "metadata": {},
   "outputs": [
    {
     "name": "stdout",
     "output_type": "stream",
     "text": [
      "First ever rating was on 2015-11-15 22:32:08  with a rating 8.0 out of 10\n",
      "https://twitter.com/dog_rates/status/666020888022790149\n",
      "\n",
      "First ever 10/10 rating was on 2015-11-16 00:30:50 when weratedogs twitter account was 1 days old\n",
      "https://twitter.com/dog_rates/status/666050758794694657\n",
      "\n",
      "First ever 11/10 rating was on 2015-11-16 03:55:04 when weratedogs twitter account was 1 days old\n",
      "https://twitter.com/dog_rates/status/666102155909144576\n",
      "\n",
      "First ever 12/10 rating was on 2015-11-17 01:02:40 when weratedogs twitter account was 2 days old\n",
      "https://twitter.com/dog_rates/status/666421158376562688\n",
      "\n",
      "First ever 13/10 rating was on 2015-11-22 02:34:57 when weratedogs twitter account was 7 days old\n",
      "https://twitter.com/dog_rates/status/668256321989451776\n",
      "\n",
      "First ever 14/10 rating was on 2016-01-08 19:45:39 when weratedogs twitter account was 54 days old\n",
      "https://twitter.com/dog_rates/status/685547936038666240\n"
     ]
    }
   ],
   "source": [
    "print(\"First ever rating was on\", df.iloc[0]['timestamp'], \" with a rating\", df.iloc[0]['rating_numerator'],\"out of 10\")\n",
    "print(\"https://twitter.com/dog_rates/status/\"+str(df.iloc[0]['tweet_id']))\n",
    "\n",
    "df_trend = df[df.rating_numerator == 10]\n",
    "print()\n",
    "print(\"First ever 10/10 rating was on\", df_trend.iloc[0]['timestamp'], \"when weratedogs twitter account was\", df_trend.iloc[0]['num_days'],\"days old\")\n",
    "print(\"https://twitter.com/dog_rates/status/\"+str(df_trend.iloc[0]['tweet_id']))\n",
    "\n",
    "df_trend = df[df.rating_numerator == 11]\n",
    "print()\n",
    "print(\"First ever 11/10 rating was on\", df_trend.iloc[0]['timestamp'], \"when weratedogs twitter account was\", df_trend.iloc[0]['num_days'],\"days old\")\n",
    "print(\"https://twitter.com/dog_rates/status/\"+str(df_trend.iloc[0]['tweet_id']))\n",
    "\n",
    "df_trend = df[df.rating_numerator == 12]\n",
    "print()\n",
    "print(\"First ever 12/10 rating was on\", df_trend.iloc[0]['timestamp'], \"when weratedogs twitter account was\", df_trend.iloc[0]['num_days'],\"days old\")\n",
    "print(\"https://twitter.com/dog_rates/status/\"+str(df_trend.iloc[0]['tweet_id']))\n",
    "\n",
    "df_trend = df[df.rating_numerator == 13]\n",
    "print()\n",
    "print(\"First ever 13/10 rating was on\", df_trend.iloc[0]['timestamp'], \"when weratedogs twitter account was\", df_trend.iloc[0]['num_days'],\"days old\")\n",
    "print(\"https://twitter.com/dog_rates/status/\"+str(df_trend.iloc[0]['tweet_id']))\n",
    "\n",
    "df_trend = df[df.rating_numerator == 14]\n",
    "print()\n",
    "print(\"First ever 14/10 rating was on\", df_trend.iloc[0]['timestamp'], \"when weratedogs twitter account was\", df_trend.iloc[0]['num_days'],\"days old\")\n",
    "print(\"https://twitter.com/dog_rates/status/\"+str(df_trend.iloc[0]['tweet_id']))"
   ]
  },
  {
   "cell_type": "code",
   "execution_count": 10,
   "metadata": {},
   "outputs": [
    {
     "name": "stdout",
     "output_type": "stream",
     "text": [
      "Number of ratings below 10/10 after to 2017-06-03 00:48:22 were 0\n",
      "i.e. After 1.6 years, weratedogs completly shifted their focus on dogs which are of worth greater than 10/10.\n"
     ]
    }
   ],
   "source": [
    "df_trend = df[df.num_days > 565]\n",
    "print(\"Number of ratings below 10/10 after to\",df_trend.iloc[0]['timestamp'], \"were\", df_trend[df_trend.rating_numerator < 11].shape[0])\n",
    "print('i.e. After',round((df_trend.iloc[0].num_days)/365,1),\"years, weratedogs completly shifted their focus on dogs which are of worth greater than 10/10.\")"
   ]
  },
  {
   "cell_type": "markdown",
   "metadata": {},
   "source": [
    "##### weratedogs had clear idea of when to use greater than 15/10 from the day two of the account timeline. \n",
    "\n",
    "##### There are greater than 15/10 ratings but they just logically(& numerically ) relates to the dog picture and occassion."
   ]
  },
  {
   "cell_type": "code",
   "execution_count": 11,
   "metadata": {},
   "outputs": [
    {
     "name": "stdout",
     "output_type": "stream",
     "text": [
      "https://twitter.com/dog_rates/status/670842764863651840  : for snoop dogg 420 song\n",
      "https://twitter.com/dog_rates/status/749981277374128128  : for year of American Independence Day\n",
      "https://twitter.com/dog_rates/status/810984652412424192  : to indicate 24x7\n",
      "https://twitter.com/dog_rates/status/838150277551247360  : to indicate the rock band *blink-182*\n",
      "https://twitter.com/dog_rates/status/855860136149123072  : to indicate japanese comic character *666 Satan*\n"
     ]
    }
   ],
   "source": [
    "r_gt_15_list = list(df[df.normalized_rating > 1.5].tweet_id)\n",
    "\n",
    "print(\"https://twitter.com/dog_rates/status/\"+str(r_gt_15_list[0]), \" : for snoop dogg 420 song\")\n",
    "print(\"https://twitter.com/dog_rates/status/\"+str(r_gt_15_list[1]), \" : for year of American Independence Day\")\n",
    "print(\"https://twitter.com/dog_rates/status/\"+str(r_gt_15_list[2]), \" : to indicate 24x7\")\n",
    "print(\"https://twitter.com/dog_rates/status/\"+str(r_gt_15_list[3]), \" : to indicate the rock band *blink-182*\")\n",
    "print(\"https://twitter.com/dog_rates/status/\"+str(r_gt_15_list[4]), \" : to indicate japanese comic character *666 Satan*\")\n"
   ]
  },
  {
   "cell_type": "code",
   "execution_count": 12,
   "metadata": {},
   "outputs": [
    {
     "name": "stdout",
     "output_type": "stream",
     "text": [
      "Highest ever rating was 1776.0 given on 2016-07-04 15:00:45\n",
      "https://twitter.com/dog_rates/status/749981277374128128\n"
     ]
    }
   ],
   "source": [
    "df_trend = df[df.rating_numerator == df.rating_numerator.max()]\n",
    "print(\"Highest ever rating was\",df_trend.iloc[0]['rating_numerator'] ,\"given on\", df_trend.iloc[0]['timestamp'])\n",
    "print(\"https://twitter.com/dog_rates/status/\"+str(df_trend.iloc[0]['tweet_id']))"
   ]
  },
  {
   "cell_type": "markdown",
   "metadata": {},
   "source": [
    "##### Highest rating ever given was on 4th of July (America Independence Day) and the rating was 1776 which is the year of declaration of independence."
   ]
  },
  {
   "cell_type": "markdown",
   "metadata": {},
   "source": [
    "##### Lowest rating of 0/10 were given in 2 cases:\n",
    "* when there was no image of the dog in the image. "
   ]
  },
  {
   "cell_type": "code",
   "execution_count": 13,
   "metadata": {},
   "outputs": [
    {
     "name": "stdout",
     "output_type": "stream",
     "text": [
      "https://twitter.com/dog_rates/status/746906459439529985\n"
     ]
    }
   ],
   "source": [
    "df_trend = df[df.rating_numerator == df.rating_numerator.min()]\n",
    "print(\"https://twitter.com/dog_rates/status/\"+str(list(df_trend['tweet_id'])[0]))"
   ]
  },
  {
   "cell_type": "markdown",
   "metadata": {},
   "source": [
    "* when other account re used the caption given for a dog by weratedogs"
   ]
  },
  {
   "cell_type": "code",
   "execution_count": 14,
   "metadata": {},
   "outputs": [
    {
     "name": "stdout",
     "output_type": "stream",
     "text": [
      "https://twitter.com/dog_rates/status/835152434251116546\n"
     ]
    }
   ],
   "source": [
    "print(\"https://twitter.com/dog_rates/status/\"+str(list(df_trend['tweet_id'])[1]))"
   ]
  },
  {
   "cell_type": "markdown",
   "metadata": {},
   "source": [
    "# Insight 2: Serendipity Rating\n",
    "\n",
    "#### weratedogs have standardized over period of time their ratings to be strictly above 10/10 and below 15/10. The team/CEO clearly mentioned in one of the tweet that 10/10 is reserved for all good dogs. Serendipity Rating is beyond 15 ; just to match the emotional attachment with dog expressed over the tweet text. However, in those cases denominator is not 10 :). Hence, the normalized rating is still less than 1.5.\n",
    "\n",
    "##### Here we see that for almost every 50 days , he gave a strange number. As can see in the below plot, it was really quite often in the early days. This should have caught him lot of attention/followers."
   ]
  },
  {
   "cell_type": "code",
   "execution_count": 15,
   "metadata": {},
   "outputs": [
    {
     "data": {
      "text/plain": [
       "<matplotlib.axes._subplots.AxesSubplot at 0x7f6dc1150b38>"
      ]
     },
     "execution_count": 15,
     "metadata": {},
     "output_type": "execute_result"
    },
    {
     "data": {
      "image/png": "[encoded data removed]",
      "text/plain": [
       "<matplotlib.figure.Figure at 0x7f6dc18d8c18>"
      ]
     },
     "metadata": {},
     "output_type": "display_data"
    }
   ],
   "source": [
    "df_trend = df[df.rating_numerator > 15]\n",
    "df_trend.plot.scatter(x='num_days', y='rating_numerator')"
   ]
  },
  {
   "cell_type": "markdown",
   "metadata": {},
   "source": [
    "##### Let us look at the same with normalized values. For every 150 days he gave atleast one rating of numerically logical rating (as explained in the end of last insight)."
   ]
  },
  {
   "cell_type": "code",
   "execution_count": 16,
   "metadata": {},
   "outputs": [
    {
     "data": {
      "text/plain": [
       "<matplotlib.axes._subplots.AxesSubplot at 0x7f6dc18c1518>"
      ]
     },
     "execution_count": 16,
     "metadata": {},
     "output_type": "execute_result"
    },
    {
     "data": {
      "image/png": "[encoded data removed]",
      "text/plain": [
       "<matplotlib.figure.Figure at 0x7f6dc18d8be0>"
      ]
     },
     "metadata": {},
     "output_type": "display_data"
    }
   ],
   "source": [
    "df_trend = df[df.normalized_rating > 1.5]\n",
    "df_trend.plot.scatter(x='num_days', y='normalized_rating')"
   ]
  },
  {
   "cell_type": "markdown",
   "metadata": {},
   "source": [
    "# Insight 3: Rating Patterns\n",
    "\n",
    "#### We will try to answer some the crucial questions like:\n",
    "* what is rating patterns over the years ?\n",
    "* did people liking vary based on his rating ?\n",
    "* why were less than 10/10 were given ? can we understand all the cases (may be not)?\n",
    "* what it takes to get 15/10 ? (low samples for 15/10 and hence my study on tweet in the timeline assessed are documented)\n"
   ]
  },
  {
   "cell_type": "markdown",
   "metadata": {},
   "source": [
    "##### Let us see rating pattern over years"
   ]
  },
  {
   "cell_type": "code",
   "execution_count": 17,
   "metadata": {},
   "outputs": [
    {
     "data": {
      "text/plain": [
       "<matplotlib.axes._subplots.AxesSubplot at 0x7f6dc17d6208>"
      ]
     },
     "execution_count": 17,
     "metadata": {},
     "output_type": "execute_result"
    },
    {
     "data": {
      "image/png": "[encoded data removed]",
      "text/plain": [
       "<matplotlib.figure.Figure at 0x7f6dc1829828>"
      ]
     },
     "metadata": {},
     "output_type": "display_data"
    }
   ],
   "source": [
    "#let us ignore the serendipity and numero - logical rating. & we dont have correct 15/10 data\n",
    "df_trend = df[df.rating_numerator < 16]\n",
    "df_trend.plot.scatter(x='num_days', y='rating_numerator',alpha= 0.09)"
   ]
  },
  {
   "cell_type": "markdown",
   "metadata": {},
   "source": [
    "##### There is clear indication of how lower rating started declining and higher ratings like  13 & 14 units (out of 10) gained more popularity recently. After all, it is a pet show who wants to know about the one with lower rating ?\n",
    "\n",
    "##### Rating 12/10 seems to be a steady value during all these times.\n",
    "\n",
    "##### Did people like his rating ?"
   ]
  },
  {
   "cell_type": "code",
   "execution_count": 18,
   "metadata": {},
   "outputs": [
    {
     "data": {
      "text/plain": [
       "<matplotlib.axes._subplots.AxesSubplot at 0x7f6dc178b390>"
      ]
     },
     "execution_count": 18,
     "metadata": {},
     "output_type": "execute_result"
    },
    {
     "data": {
      "image/png": "[encoded data removed]",
      "text/plain": [
       "<matplotlib.figure.Figure at 0x7f6dc17a5ba8>"
      ]
     },
     "metadata": {},
     "output_type": "display_data"
    }
   ],
   "source": [
    "df_trend = df[df.rating_numerator < 16]\n",
    "df_trend.plot.scatter(x='rating_numerator', y='retweet_count')"
   ]
  },
  {
   "cell_type": "code",
   "execution_count": 19,
   "metadata": {},
   "outputs": [
    {
     "data": {
      "text/plain": [
       "<matplotlib.axes._subplots.AxesSubplot at 0x7f6dc185da58>"
      ]
     },
     "execution_count": 19,
     "metadata": {},
     "output_type": "execute_result"
    },
    {
     "data": {
      "image/png": "[encoded data removed]",
      "text/plain": [
       "<matplotlib.figure.Figure at 0x7f6dc16db400>"
      ]
     },
     "metadata": {},
     "output_type": "display_data"
    }
   ],
   "source": [
    "df_trend.plot.scatter(x='rating_numerator', y='favorite_count')"
   ]
  },
  {
   "cell_type": "markdown",
   "metadata": {},
   "source": [
    "##### is there any relation between retweet and favorite?"
   ]
  },
  {
   "cell_type": "code",
   "execution_count": 20,
   "metadata": {},
   "outputs": [
    {
     "name": "stdout",
     "output_type": "stream",
     "text": [
      "Correlation between retween and favorite count :  0.920439143768\n"
     ]
    },
    {
     "data": {
      "text/plain": [
       "<matplotlib.axes._subplots.AxesSubplot at 0x7f6de525ab00>"
      ]
     },
     "execution_count": 20,
     "metadata": {},
     "output_type": "execute_result"
    },
    {
     "data": {
      "image/png": "[encoded data removed]",
      "text/plain": [
       "<matplotlib.figure.Figure at 0x7f6dc16f8ef0>"
      ]
     },
     "metadata": {},
     "output_type": "display_data"
    }
   ],
   "source": [
    "print(\"Correlation between retween and favorite count : \",df.retweet_count.corr(df.favorite_count))\n",
    "df_trend.plot.scatter(x='retweet_count', y='favorite_count')"
   ]
  },
  {
   "cell_type": "markdown",
   "metadata": {},
   "source": [
    "##### Yes, I guess people always like it first before retweeting. So if there is a pattern for one then it would fit for other too."
   ]
  },
  {
   "cell_type": "markdown",
   "metadata": {},
   "source": [
    "##### So would reply count come to rescue here ?"
   ]
  },
  {
   "cell_type": "code",
   "execution_count": 21,
   "metadata": {},
   "outputs": [
    {
     "name": "stdout",
     "output_type": "stream",
     "text": [
      "Correlation between favorite and reply count : 0.70095222289\n"
     ]
    },
    {
     "data": {
      "text/plain": [
       "<matplotlib.axes._subplots.AxesSubplot at 0x7f6dc16590b8>"
      ]
     },
     "execution_count": 21,
     "metadata": {},
     "output_type": "execute_result"
    },
    {
     "data": {
      "image/png": "[encoded data removed]",
      "text/plain": [
       "<matplotlib.figure.Figure at 0x7f6dc163c358>"
      ]
     },
     "metadata": {},
     "output_type": "display_data"
    }
   ],
   "source": [
    "print(\"Correlation between favorite and reply count :\", df.favorite_count.corr(df.reply_count))\n",
    "df.plot.scatter(x='retweet_count',y='reply_count')"
   ]
  },
  {
   "cell_type": "code",
   "execution_count": 22,
   "metadata": {},
   "outputs": [
    {
     "name": "stdout",
     "output_type": "stream",
     "text": [
      "Correlation between favorite and reply count : 0.70095222289\n"
     ]
    },
    {
     "data": {
      "text/plain": [
       "<matplotlib.axes._subplots.AxesSubplot at 0x7f6dc1673588>"
      ]
     },
     "execution_count": 22,
     "metadata": {},
     "output_type": "execute_result"
    },
    {
     "data": {
      "image/png": "[encoded data removed]",
      "text/plain": [
       "<matplotlib.figure.Figure at 0x7f6dc159a208>"
      ]
     },
     "metadata": {},
     "output_type": "display_data"
    }
   ],
   "source": [
    "print(\"Correlation between favorite and reply count :\", df.favorite_count.corr(df.reply_count))\n",
    "df.plot.scatter(x='favorite_count',y='reply_count')"
   ]
  },
  {
   "cell_type": "code",
   "execution_count": 23,
   "metadata": {},
   "outputs": [
    {
     "data": {
      "text/plain": [
       "<matplotlib.axes._subplots.AxesSubplot at 0x7f6dc1749dd8>"
      ]
     },
     "execution_count": 23,
     "metadata": {},
     "output_type": "execute_result"
    },
    {
     "data": {
      "image/png": "[encoded data removed]",
      "text/plain": [
       "<matplotlib.figure.Figure at 0x7f6dc15d4550>"
      ]
     },
     "metadata": {},
     "output_type": "display_data"
    }
   ],
   "source": [
    "df_trend.plot.scatter(x='rating_numerator', y='reply_count')"
   ]
  },
  {
   "cell_type": "markdown",
   "metadata": {},
   "source": [
    "##### The two independent variable (retweet count and reply count) confirms that people also liked higher rating !!!!"
   ]
  },
  {
   "cell_type": "markdown",
   "metadata": {},
   "source": [
    "##### Let us see why he gave < 10"
   ]
  },
  {
   "cell_type": "code",
   "execution_count": 24,
   "metadata": {},
   "outputs": [
    {
     "data": {
      "text/plain": [
       "<matplotlib.axes._subplots.AxesSubplot at 0x7f6dc1515f60>"
      ]
     },
     "execution_count": 24,
     "metadata": {},
     "output_type": "execute_result"
    },
    {
     "data": {
      "image/png": "[encoded data removed]",
      "text/plain": [
       "<matplotlib.figure.Figure at 0x7f6dc1690400>"
      ]
     },
     "metadata": {},
     "output_type": "display_data"
    }
   ],
   "source": [
    "df_trend = df[df.rating_numerator <10]\n",
    "df_trend.plot.scatter(x='num_days', y='rating_numerator')\n"
   ]
  },
  {
   "cell_type": "markdown",
   "metadata": {},
   "source": [
    "##### The above chart confirms our earlier observations of only two 0/10 ratings and weratedogs moving away from less than 10/10 ratings at around 550 days.\n",
    "\n",
    "##### Let us see couple of those tweets"
   ]
  },
  {
   "cell_type": "code",
   "execution_count": 25,
   "metadata": {},
   "outputs": [
    {
     "name": "stdout",
     "output_type": "stream",
     "text": [
      "Total number of ratings < 10 :  424\n",
      "How many of those were dogs?\n",
      "Ans:  225\n",
      "How many of those dogs were predicted with greater than 70% confidence?\n",
      "Ans:  68\n"
     ]
    }
   ],
   "source": [
    "df_rating_trend_m = df[df.rating_numerator <10]\n",
    "#we should exclude day 1\n",
    "df_rating_trend_m = df_rating_trend_m[df_rating_trend_m.num_days >0]\n",
    "df_rating_trend_m[['tweet_id','breed_name','stage']]\n",
    "\n",
    "print(\"Total number of ratings < 10 : \", df_rating_trend_m.shape[0])\n",
    "print(\"How many of those were dogs?\\nAns: \", df_rating_trend_m[~df_rating_trend_m.breed_name.isnull()].shape[0])\n",
    "df_images_70 = pd.read_csv('twitter_archive_cleaned_images.csv')\n",
    "df_rating_trend_m = df_rating_trend_m.merge(df_images_70[['tweet_id','breed_name']],how='left',on='tweet_id')\n",
    "print(\"How many of those dogs were predicted with greater than 70% confidence?\\nAns: \", df_rating_trend_m[~df_rating_trend_m.breed_name_y.isnull()].shape[0])"
   ]
  },
  {
   "cell_type": "markdown",
   "metadata": {},
   "source": [
    "##### When I investigated couple of tweets less than 10/10, I found following observations:\n",
    "\n",
    "* either they were not dogs or full image of the dog was not there. \n",
    "    * https://twitter.com/dog_rates/status/668981893510119424 : is a photo of Fish.\n",
    "    * https://twitter.com/dog_rates/status/666293911632134144 : not a dog.\n",
    "    * https://twitter.com/dog_rates/status/848212111729840128 : it is a lamb.\n",
    "    * https://twitter.com/dog_rates/status/666817836334096384 : only head of the dog present.\n",
    "    \n",
    "* Either dog was not in a fun mood or the picture had other animals \n",
    "    * https://twitter.com/dog_rates/status/814578408554463233 : has pig in the pic.\n",
    "    * https://twitter.com/dog_rates/status/666407126856765440 : dead ducks along with it might have lead to low rating.\n",
    "    \n",
    "* pic itself was not good quality\n",
    "    * https://twitter.com/dog_rates/status/740711788199743490 : not a clean pic to rate.\n",
    "    * https://twitter.com/dog_rates/status/666804364988780544 : focus was not set to dog.\n",
    "    \n",
    "* error in rating parser\n",
    "    * https://twitter.com/dog_rates/status/667878741721415682 : rated as 10&2 out of 10 (12/10)\n",
    "    \n",
    "* lower rating was given with lighter note:\n",
    "    * https://twitter.com/dog_rates/status/781661882474196992 : dog dress matches the road.\n",
    "    \n",
    "* couple of rating pattern made me think that if the dogs are out in the wild or in nature playing happily would get better rating\n",
    "    * https://twitter.com/dog_rates/status/666776908487630848\n",
    "    * https://twitter.com/dog_rates/status/666044226329800704\n",
    "    * https://twitter.com/dog_rates/status/666058600524156928\n",
    "    * https://twitter.com/dog_rates/status/750383411068534784\n",
    "    "
   ]
  },
  {
   "cell_type": "markdown",
   "metadata": {},
   "source": [
    "##### What it takes to get better rating?"
   ]
  },
  {
   "cell_type": "code",
   "execution_count": 26,
   "metadata": {},
   "outputs": [
    {
     "data": {
      "text/html": [
       "<div>\n",
       "<style>\n",
       "    .dataframe thead tr:only-child th {\n",
       "        text-align: right;\n",
       "    }\n",
       "\n",
       "    .dataframe thead th {\n",
       "        text-align: left;\n",
       "    }\n",
       "\n",
       "    .dataframe tbody tr th {\n",
       "        vertical-align: top;\n",
       "    }\n",
       "</style>\n",
       "<table border=\"1\" class=\"dataframe\">\n",
       "  <thead>\n",
       "    <tr style=\"text-align: right;\">\n",
       "      <th></th>\n",
       "      <th>source</th>\n",
       "      <th>tweet_id_count</th>\n",
       "      <th>median_rating_numerator</th>\n",
       "      <th>median_retweet_count</th>\n",
       "      <th>median_reply_count</th>\n",
       "      <th>median_favorite_count</th>\n",
       "    </tr>\n",
       "  </thead>\n",
       "  <tbody>\n",
       "    <tr>\n",
       "      <th>0</th>\n",
       "      <td>TweetDeck</td>\n",
       "      <td>11</td>\n",
       "      <td>11.0</td>\n",
       "      <td>978</td>\n",
       "      <td>21</td>\n",
       "      <td>3409</td>\n",
       "    </tr>\n",
       "    <tr>\n",
       "      <th>1</th>\n",
       "      <td>Twitter Web Client</td>\n",
       "      <td>33</td>\n",
       "      <td>11.0</td>\n",
       "      <td>330</td>\n",
       "      <td>8</td>\n",
       "      <td>839</td>\n",
       "    </tr>\n",
       "    <tr>\n",
       "      <th>2</th>\n",
       "      <td>Twitter for iPhone</td>\n",
       "      <td>2075</td>\n",
       "      <td>11.0</td>\n",
       "      <td>1301</td>\n",
       "      <td>31</td>\n",
       "      <td>4074</td>\n",
       "    </tr>\n",
       "    <tr>\n",
       "      <th>3</th>\n",
       "      <td>Vine - Make a Scene</td>\n",
       "      <td>91</td>\n",
       "      <td>12.0</td>\n",
       "      <td>1821</td>\n",
       "      <td>48</td>\n",
       "      <td>4267</td>\n",
       "    </tr>\n",
       "  </tbody>\n",
       "</table>\n",
       "</div>"
      ],
      "text/plain": [
       "                source  tweet_id_count  median_rating_numerator  \\\n",
       "0            TweetDeck              11                     11.0   \n",
       "1   Twitter Web Client              33                     11.0   \n",
       "2   Twitter for iPhone            2075                     11.0   \n",
       "3  Vine - Make a Scene              91                     12.0   \n",
       "\n",
       "   median_retweet_count  median_reply_count  median_favorite_count  \n",
       "0                   978                  21                   3409  \n",
       "1                   330                   8                    839  \n",
       "2                  1301                  31                   4074  \n",
       "3                  1821                  48                   4267  "
      ]
     },
     "execution_count": 26,
     "metadata": {},
     "output_type": "execute_result"
    }
   ],
   "source": [
    "df3 = df[['source','tweet_id']].groupby(['source']).count().reset_index()\n",
    "df4 = df[['source','rating_numerator']].groupby(['source']).median().reset_index()\n",
    "df6 = df[['source','retweet_count']].groupby(['source']).median().reset_index()\n",
    "df7 = df[['source','reply_count']].groupby(['source']).median().reset_index()\n",
    "df8 = df[['source','favorite_count']].groupby(['source']).median().reset_index()\n",
    "df5 = df3.merge(df4)\n",
    "df5 = df5.merge(df6)\n",
    "df5 = df5.merge(df7)\n",
    "df5 = df5.merge(df8)\n",
    "\n",
    "df5.columns = [['source', 'tweet_id_count', 'median_rating_numerator','median_retweet_count','median_reply_count','median_favorite_count']]\n",
    "df5"
   ]
  },
  {
   "cell_type": "code",
   "execution_count": 27,
   "metadata": {},
   "outputs": [
    {
     "name": "stdout",
     "output_type": "stream",
     "text": [
      "Highest retweeted weratedogs tweet : https://twitter.com/dog_rates/status/744234799360020481\n"
     ]
    }
   ],
   "source": [
    "print('Highest retweeted weratedogs tweet :','https://twitter.com/dog_rates/status/'+ str(df[df.retweet_count == df.retweet_count.max()].iloc[0]['tweet_id']))"
   ]
  },
  {
   "cell_type": "markdown",
   "metadata": {},
   "source": [
    "##### Vine allows you to make 6 secods videos (6.5 seconds with Vine Camera). Easily goes viral if it is funny :)"
   ]
  },
  {
   "cell_type": "markdown",
   "metadata": {},
   "source": [
    "#### Which dogs are rated 15/10 ? \n",
    "##### Recently \"15/10 Moments\" has started in weratedogs; where the 15/10 ratings are listed. It is dedicated to all brave and bold dogs which have fought against disabilities or helped others by act of kindness or helped other dog rescue or fought against disease. May God bless those Dogs !!!\n",
    "\n",
    "##### As per rating analysis (as discussed in the previous Insight), he needs to move up in the rating system over period of time. It is a good move to select the criteria for 15/10. According to me, weratedogs would circulate 12, 13, 14 around funny comments to engage 7 million followers but dedicate 15/10 as a true respect the dog lovers."
   ]
  }
 ],
 "metadata": {
  "kernelspec": {
   "display_name": "Python 3",
   "language": "python",
   "name": "python3"
  },
  "language_info": {
   "codemirror_mode": {
    "name": "ipython",
    "version": 3
   },
   "file_extension": ".py",
   "mimetype": "text/x-python",
   "name": "python",
   "nbconvert_exporter": "python",
   "pygments_lexer": "ipython3",
   "version": "3.6.3"
  }
 },
 "nbformat": 4,
 "nbformat_minor": 2
}
